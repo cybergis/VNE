{
 "cells": [
  {
   "cell_type": "markdown",
   "id": "e4f57e43-1635-44ec-9011-1b3bc2f3bee0",
   "metadata": {},
   "source": [
    "# Vulnerable Neighborhood Explorer (VNE)"
   ]
  },
  {
   "cell_type": "markdown",
   "id": "f0c07b90-0666-420e-830e-794d75bf1bd1",
   "metadata": {},
   "source": [
    "VNE is  a cyberGIS-based visual analytics tool that allows users to (1) delineate neighborhoods based on their selection of variables describing socioeconomic and demographic profiles, and (2) explore which neighborhoods are more susceptible to the impacts of disasters than other neighborhoods based on specific socioeconomic and demographic characteristics. This notebook contain examples use of VNE in several different study areas. VNE use \"geosnap\" python package, which has been already installed in CyberGIX Python 3-0.8.1. If you use this environment, you will not be required to install python packages."
   ]
  },
  {
   "cell_type": "code",
   "execution_count": 1,
   "id": "fe7d6772-614b-494f-b8b2-781820569979",
   "metadata": {},
   "outputs": [],
   "source": [
    "from VulnerableNeighborhoodExplorer import Vulnerability_viz\n",
    "from VulnerableNeighborhoodExplorer import Vulnerability_log"
   ]
  },
  {
   "cell_type": "markdown",
   "id": "6f8c255e-fb8b-425f-a694-38f1bae0688a",
   "metadata": {},
   "source": [
    "## Chicagoland: Exploration of Vulnerable Neighborhood to COVID-19 and Regional Disparities in the Infection/Mortality/Test Rates"
   ]
  },
  {
   "cell_type": "code",
   "execution_count": 14,
   "id": "f4ac6dba-fabb-4ffc-a87c-9d2a2abdb7d1",
   "metadata": {},
   "outputs": [
    {
     "name": "stderr",
     "output_type": "stream",
     "text": [
      "C:\\Users\\Suzie\\Anaconda3\\envs\\geosnap6\\lib\\site-packages\\sklearn\\cluster\\_kmeans.py:786: FutureWarning: 'precompute_distances' was deprecated in version 0.23 and will be removed in 1.0 (renaming of 0.25). It has no effect\n",
      "  warnings.warn(\"'precompute_distances' was deprecated in version \"\n",
      "C:\\Users\\Suzie\\Anaconda3\\envs\\geosnap6\\lib\\site-packages\\scipy\\cluster\\hierarchy.py:834: ClusterWarning: scipy.cluster: The symmetric non-negative hollow observation matrix looks suspiciously like an uncondensed distance matrix\n",
      "  return linkage(y, method='ward', metric='euclidean')\n"
     ]
    },
    {
     "name": "stdout",
     "output_type": "stream",
     "text": [
      "To see your visualization, click the URL below (or locate the files):\n",
      "F:\\Github\\Vulnerable_Neigborhood_Explorer/VNE_Chicago_kmeans_C5\\index.html\n",
      "To access all visualizations that you have created, click the URL below (or locate the files):\n",
      "F:\\Github\\Vulnerable_Neigborhood_Explorer/log.html\n",
      "Advanced options are available in \n",
      "F:\\Github\\Vulnerable_Neigborhood_Explorer/VNE_Chicago_kmeans_C5/data/CONFIG_Chicago_kmeans_C5.js\n"
     ]
    }
   ],
   "source": [
    "param_Chicago = {\n",
    "    'title': \"Vulnerable Neighborhood to COVID-19, Chicago\",\n",
    "    'subject': \"COVID-19\",\n",
    "    'filename_suffix': \"Chicago_kmeans_C5\",\n",
    "    'inputCSV': \"input_Chicago/ACS_2018_5year__zipcode_Cook_byZipcode_normalized.csv\",\n",
    "    'shapefile': \"input_Chicago/zipcode_Cook_County.shp\",\n",
    "    'disasterInputCSV': \"input_Chicago/COVID_IL_20200711.csv\",\n",
    "    'rate1': 'Confirmed (%) = _count/_tested', # Formula to compute confirmed rate      \n",
    "    'normalizationCSV': \"input_Chicago/Normalization_Table_Chicago.csv\", \n",
    "    'normalizationUnit': 10000,  \n",
    "    'years': [2018],        \n",
    "    'method': \"kmeans\",  # Aspatial Clustering: affinity_propagation, gaussian_mixture, hdbscan, kmeans, spectral, ward\n",
    "                         # Spatial Clustering: azp, max_p, skater, spenc, ward_spatial   \n",
    "    'nClusters': 5,      # This option should be commented out for affinity_propagation and hdbscan\n",
    "    'variables': [\n",
    "        \"Median monthly housing costs\",\n",
    "        \"% below poverty\",\n",
    "        \"% unemployed\",\n",
    "        \"% with 4year college degree\",\n",
    "        \"% manufacturing\",\n",
    "        \"% service industry\",\n",
    "        \"% structures more than 30 years old\",\n",
    "        \"% households moved <10 years ago\",\n",
    "        \"% multiunit structures\",\n",
    "        \"% owner occupied housing\",\n",
    "        \"% vacant housing\",\n",
    "        \"% > 60 years old\",\n",
    "        \"% < 18 years old\",\n",
    "        \"% white\",\n",
    "        \"% Asian\",\n",
    "        \"% Hispanic\",\n",
    "        \"% black\",\n",
    "        \"% foreign born\",\n",
    "        ],\n",
    "    'Distribution_of_Subject': True,                  \n",
    "    'Zscore_Means_across_Clusters': True,\n",
    "    'Zscore_Means_of_Each_Cluster': True,\n",
    "    'Number_of_Barcharts_for_Subject_Clusters': 3,\n",
    "    'Number_of_BoxPlots_for_Subject_Clusters': 0,\n",
    "}\n",
    "Vulnerability_viz(param_Chicago)"
   ]
  },
  {
   "cell_type": "markdown",
   "id": "820a9e9c-f99b-4167-b975-65e297625717",
   "metadata": {},
   "source": [
    "## New York City: Exploration of Vulnerable Neighborhood to COVID-19 and Regional Disparities in the Infection/Mortality/Test Rates"
   ]
  },
  {
   "cell_type": "code",
   "execution_count": 8,
   "id": "9620cf75-5402-4d5d-8da8-c1337bf6ca0f",
   "metadata": {},
   "outputs": [
    {
     "name": "stderr",
     "output_type": "stream",
     "text": [
      "C:\\Users\\Suzie\\Anaconda3\\envs\\geosnap6\\lib\\site-packages\\sklearn\\cluster\\_kmeans.py:786: FutureWarning: 'precompute_distances' was deprecated in version 0.23 and will be removed in 1.0 (renaming of 0.25). It has no effect\n",
      "  warnings.warn(\"'precompute_distances' was deprecated in version \"\n",
      "C:\\Users\\Suzie\\Anaconda3\\envs\\geosnap6\\lib\\site-packages\\scipy\\cluster\\hierarchy.py:834: ClusterWarning: scipy.cluster: The symmetric non-negative hollow observation matrix looks suspiciously like an uncondensed distance matrix\n",
      "  return linkage(y, method='ward', metric='euclidean')\n"
     ]
    },
    {
     "name": "stdout",
     "output_type": "stream",
     "text": [
      "To see your visualization, click the URL below (or locate the files):\n",
      "F:\\Github\\Vulnerable_Neigborhood_Explorer/VNE_New_York_kmeans_C5\\index.html\n",
      "To access all visualizations that you have created, click the URL below (or locate the files):\n",
      "F:\\Github\\Vulnerable_Neigborhood_Explorer/log.html\n",
      "Advanced options are available in \n",
      "F:\\Github\\Vulnerable_Neigborhood_Explorer/VNE_New_York_kmeans_C5/data/CONFIG_New_York_kmeans_C5.js\n"
     ]
    }
   ],
   "source": [
    "param_NYC = {\n",
    "    'title': \"Vulnerable Neighborhood to COVID-19, NYC\",\n",
    "    'subject': \"COVID-19\",\n",
    "    'filename_suffix': \"New_York_kmeans_C5\",\n",
    "    'inputCSV': \"input_NYC/ACS_2018_5year__zipcode_NYC_byZipcode_normalized.csv\",\n",
    "    'shapefile': \"input_NYC/zipcode_NYC.shp\",\n",
    "    'disasterInputCSV': \"input_NYC/COVID_NYC_20200711_revised.csv\",\n",
    "    'rate1': 'Confirmed rate = _count/_tested',             # Formula to compute rate1 in subjectCSV such as confirmed rate1. \n",
    "    'rate2': 'Case fatality rate = _deaths/_count',         # Formula to compute rate2 in subjectCSV such as death rate2.        \n",
    "    'normalizationCSV': \"input_NYC/Decision_Normalization_NYC.csv\",        # divisor instead of population from CSV file\n",
    "    'normalizationUnit': 10000,               # default: 10000   \n",
    "    'years': [2018],        \n",
    "    'method': \"kmeans\",  # Aspatial Clustering: affinity_propagation, gaussian_mixture, hdbscan, kmeans, spectral, ward\n",
    "                         # Spatial Clustering: azp, max_p, skater, spenc, ward_spatial   \n",
    "    'nClusters': 5,      # This option should be commented out for affinity_propagation and hdbscan\n",
    "    'variables': [\n",
    "        \"Median monthly housing costs\",\n",
    "        \"% below poverty\",                \n",
    "        \"% unemployed\",            \n",
    "        \"% with 4year college degree\",\n",
    "        \"% manufacturing\",\n",
    "        \"% service industry\",\n",
    "        \"% structures more than 30 years old\",\n",
    "        \"% households moved <10 years ago\",\n",
    "        \"% multiunit structures\",\n",
    "        \"% owner occupied housing\",\n",
    "        \"% vacant housing\",\n",
    "        \"% > 60 years old\",            \n",
    "        \"% < 18 years old\",\n",
    "        \"% white\",\n",
    "        \"% Asian\",\n",
    "        \"% Hispanic\",            \n",
    "        \"% black\",            \n",
    "        \"% foreign born\",\n",
    "    ],\n",
    "    'Distribution_of_Subject': True,                        # density chart: INC changes as the map extent changes \n",
    "    'Distribution_of_Subject_different_period': False,       # density chart: INC changes by different years \n",
    "    'Distribution_of_Subject_different_cluster': False,      # density chart: INC changes by different clusters \n",
    "    'Zscore_Means_across_Clusters': True,                   # heatmap: Z Score Means across Clusters\n",
    "    'Zscore_Means_of_Each_Cluster': True,                  # barchart: Z Score Means of Each Cluster\n",
    "    'Number_of_Barcharts_for_Subject_Clusters': 1,\n",
    "    'Number_of_BoxPlots_for_Subject_Clusters': 1,\n",
    "}\n",
    "Vulnerability_viz(param_NYC)\n",
    "Vulnerability_log(param_NYC)"
   ]
  },
  {
   "cell_type": "markdown",
   "id": "bea3bb99-dd8f-4bfd-accc-20a1a2cef186",
   "metadata": {},
   "source": [
    "## Phoenix: Exploration of Vulnerable Neighborhood COVID-19 and Regional Disparities in the Infection/Mortality/Test Rates"
   ]
  },
  {
   "cell_type": "code",
   "execution_count": 9,
   "id": "73cbfc6f-d501-40ca-8150-42ddc519ad44",
   "metadata": {},
   "outputs": [
    {
     "name": "stderr",
     "output_type": "stream",
     "text": [
      "C:\\Users\\Suzie\\Anaconda3\\envs\\geosnap6\\lib\\site-packages\\sklearn\\cluster\\_kmeans.py:786: FutureWarning: 'precompute_distances' was deprecated in version 0.23 and will be removed in 1.0 (renaming of 0.25). It has no effect\n",
      "  warnings.warn(\"'precompute_distances' was deprecated in version \"\n",
      "C:\\Users\\Suzie\\Anaconda3\\envs\\geosnap6\\lib\\site-packages\\scipy\\cluster\\hierarchy.py:834: ClusterWarning: scipy.cluster: The symmetric non-negative hollow observation matrix looks suspiciously like an uncondensed distance matrix\n",
      "  return linkage(y, method='ward', metric='euclidean')\n"
     ]
    },
    {
     "name": "stdout",
     "output_type": "stream",
     "text": [
      "To see your visualization, click the URL below (or locate the files):\n",
      "F:\\Github\\Vulnerable_Neigborhood_Explorer/VNE_Phoenix_kmeans_C5\\index.html\n",
      "To access all visualizations that you have created, click the URL below (or locate the files):\n",
      "F:\\Github\\Vulnerable_Neigborhood_Explorer/log.html\n",
      "Advanced options are available in \n",
      "F:\\Github\\Vulnerable_Neigborhood_Explorer/VNE_Phoenix_kmeans_C5/data/CONFIG_Phoenix_kmeans_C5.js\n"
     ]
    }
   ],
   "source": [
    "param_Phoenix = {\n",
    "        'title': \"Vulnerable Neighborhood to COVID-19, Phoenix\",\n",
    "        'subject': \"COVID-19\",\n",
    "        'filename_suffix': \"Phoenix_kmeans_C5\",\n",
    "        'inputCSV': \"input_Phoenix/ACS_2018_5year__zipcode_AZ_Maricopa_byZipcode_normalized.csv\",\n",
    "        'shapefile': \"input_Phoenix/AZ_maricopa.shp\",\t\n",
    "        'disasterInputCSV': \"input_Phoenix/COVID_20200715_Arizona.csv\",\n",
    "        'rate1': 'Confirmed (%) = _count/_tested',\t\t# Formula to compute rate1 in subjectCSV such as confirmed rate1. \n",
    "        'normalizationCSV': \"Decision_Normalization.csv\",            # divisor instead of population from CSV file\t  \n",
    "        'normalizationUnit': 10000,               # default: 10000          \n",
    "        'years': [2018],        \n",
    "        'method': \"kmeans\",  # Aspatial Clustering: affinity_propagation, gaussian_mixture, hdbscan, kmeans, spectral, ward\n",
    "                             # Spatial Clustering: azp, max_p, skater, spenc, ward_spatial   \n",
    "        'nClusters': 5,      # This option should be commented out for affinity_propagation and hdbscan\n",
    "        'label': \"short_name\",\n",
    "        'variables': [\t\n",
    "            \"Median monthly housing costs\",\n",
    "            \"% below poverty\",\t\t\t\t\n",
    "            \"% unemployed\",\t\t\t\n",
    "            \"% with 4year college degree\",\n",
    "            \"% manufacturing\",\n",
    "            \"% service industry\",\n",
    "            \"% structures more than 30 years old\",\n",
    "            \"% households moved <10 years ago\",\n",
    "            \"% multiunit structures\",\n",
    "            \"% owner occupied housing\",\n",
    "            \"% vacant housing\",\n",
    "            \"% > 60 years old\",\t\t\t\n",
    "            \"% < 18 years old\",\n",
    "            \"% white\",\n",
    "            \"% Asian\",\n",
    "            \"% Hispanic\",\t\t\t\n",
    "            \"% black\",\t\t\t\n",
    "            \"% foreign born\",\n",
    "                    ],\t\n",
    "        'Distribution_of_Subject': True,                   #density chart: INC changes as the map extent changes \n",
    "        'Zscore_Means_across_Clusters': True,\n",
    "        'Zscore_Means_of_Each_Cluster': True,\n",
    "        'Number_of_Barcharts_for_Subject_Clusters': 1,\n",
    "        'Number_of_BoxPlots_for_Subject_Clusters': 1,\n",
    "}\n",
    "Vulnerability_viz(param_Phoenix)\n",
    "Vulnerability_log(param_Phoenix)"
   ]
  },
  {
   "cell_type": "markdown",
   "id": "7abd4ef9-cff4-4cb3-8cff-564d3fc7b1d4",
   "metadata": {},
   "source": [
    "## Miami: Exploration of Vulnerable Neighborhood COVID-19 and Regional Disparities in the Infection/Mortality/Test Rates"
   ]
  },
  {
   "cell_type": "code",
   "execution_count": 10,
   "id": "372c9398-dbe0-4c86-a64b-81628df72978",
   "metadata": {},
   "outputs": [
    {
     "name": "stderr",
     "output_type": "stream",
     "text": [
      "C:\\Users\\Suzie\\Anaconda3\\envs\\geosnap6\\lib\\site-packages\\sklearn\\cluster\\_kmeans.py:786: FutureWarning: 'precompute_distances' was deprecated in version 0.23 and will be removed in 1.0 (renaming of 0.25). It has no effect\n",
      "  warnings.warn(\"'precompute_distances' was deprecated in version \"\n",
      "C:\\Users\\Suzie\\Anaconda3\\envs\\geosnap6\\lib\\site-packages\\scipy\\cluster\\hierarchy.py:834: ClusterWarning: scipy.cluster: The symmetric non-negative hollow observation matrix looks suspiciously like an uncondensed distance matrix\n",
      "  return linkage(y, method='ward', metric='euclidean')\n"
     ]
    },
    {
     "name": "stdout",
     "output_type": "stream",
     "text": [
      "To see your visualization, click the URL below (or locate the files):\n",
      "F:\\Github\\Vulnerable_Neigborhood_Explorer/VNE_Phoenix_kmeans_C5\\index.html\n",
      "To access all visualizations that you have created, click the URL below (or locate the files):\n",
      "F:\\Github\\Vulnerable_Neigborhood_Explorer/log.html\n",
      "Advanced options are available in \n",
      "F:\\Github\\Vulnerable_Neigborhood_Explorer/VNE_Phoenix_kmeans_C5/data/CONFIG_Phoenix_kmeans_C5.js\n"
     ]
    }
   ],
   "source": [
    "param_Miami = {\n",
    "         'title': \"Vulnerable Neighborhood to COVID-19, Miami\",\n",
    "         'subject': \"COVID-19\",\n",
    "         'filename_suffix': \"Miami_kmeans_C5\", \n",
    "         'inputCSV': \"input_Miami/ACS_2018_5year__zipcode_Miami_byZipcode_normalized.csv\",   \n",
    "         'shapefile': \"input_Miami/Miami4.shp\",\n",
    "         'disasterInputCSV': \"input_Miami/COVID_Florida_20200717.csv\", \n",
    "         'rate1': 'Confirmed (%) = _count/_tested',# Formula to compute rate1 in subjectCSV such as confirmed rate1. \t\n",
    "         'subjectNormalization': '(/10k pop) = all * 10000.0 / Population',  # denominator, per number of pop. \t\t\n",
    "         'normalizationCSV': \"Decision_Normalization.csv\",            # divisor instead of population from CSV file\t  \n",
    "         'normalizationUnit': 10000,               # default: 10000        \n",
    "         'method': \"kmeans\",  # Aspatial Clustering: affinity_propagation, gaussian_mixture, hdbscan, kmeans, spectral, ward\n",
    "                              # Spatial Clustering: azp, max_p, skater, spenc, ward_spatial   \n",
    "         'nClusters': 5,      # This option should be commented out for affinity_propagation and hdbscan\n",
    "         'label': \"short_name\",\n",
    "         'variables': [\n",
    "             \"Median monthly housing costs\",\n",
    "             \"% below poverty\",\n",
    "             \"% unemployed\",\n",
    "             \"% with 4year college degree\",\n",
    "             \"% manufacturing\",\n",
    "             \"% service industry\",\n",
    "             \"% structures more than 30 years old\",\n",
    "             \"% households moved <10 years ago\",\n",
    "             \"% multiunit structures\",\n",
    "             \"% owner occupied housing\",\n",
    "             \"% vacant housing\",\n",
    "             \"% > 60 years old\",\n",
    "             \"% < 18 years old\",\n",
    "             \"% white\",\n",
    "             \"% Asian\",\n",
    "             \"% Hispanic\",\n",
    "             \"% black\",\n",
    "             \"% foreign born\",\n",
    "                     ],\n",
    "         'Distribution_of_Subject': True,                   #density chart: INC changes as the map extent changes \n",
    "         'Zscore_Means_across_Clusters': True,\n",
    "         'Zscore_Means_of_Each_Cluster': True,\n",
    "         'Number_of_Barcharts_for_Subject_Clusters': 1,\n",
    "         'Number_of_BoxPlots_for_Subject_Clusters': 1,\n",
    "}\n",
    "Vulnerability_viz(param_Phoenix)\n",
    "Vulnerability_log(param_Phoenix)"
   ]
  },
  {
   "cell_type": "markdown",
   "id": "2d569d2f-9e82-4629-b7ef-5652605fa250",
   "metadata": {},
   "source": [
    "## US counties: Exploration of Vulnerable Neighborhood COVID-19 and Regional Disparities in the Infection/Mortality/Test Rates"
   ]
  },
  {
   "cell_type": "code",
   "execution_count": 11,
   "id": "5e4b744d-8beb-4955-817c-9f34805fdfdd",
   "metadata": {},
   "outputs": [
    {
     "name": "stderr",
     "output_type": "stream",
     "text": [
      "C:\\Users\\Suzie\\Anaconda3\\envs\\geosnap6\\lib\\site-packages\\sklearn\\cluster\\_kmeans.py:786: FutureWarning: 'precompute_distances' was deprecated in version 0.23 and will be removed in 1.0 (renaming of 0.25). It has no effect\n",
      "  warnings.warn(\"'precompute_distances' was deprecated in version \"\n",
      "C:\\Users\\Suzie\\Anaconda3\\envs\\geosnap6\\lib\\site-packages\\scipy\\cluster\\hierarchy.py:834: ClusterWarning: scipy.cluster: The symmetric non-negative hollow observation matrix looks suspiciously like an uncondensed distance matrix\n",
      "  return linkage(y, method='ward', metric='euclidean')\n"
     ]
    },
    {
     "name": "stdout",
     "output_type": "stream",
     "text": [
      "To see your visualization, click the URL below (or locate the files):\n",
      "F:\\Github\\Vulnerable_Neigborhood_Explorer/VNE_US_kmeans_C5\\index.html\n",
      "To access all visualizations that you have created, click the URL below (or locate the files):\n",
      "F:\\Github\\Vulnerable_Neigborhood_Explorer/log.html\n",
      "Advanced options are available in \n",
      "F:\\Github\\Vulnerable_Neigborhood_Explorer/VNE_US_kmeans_C5/data/CONFIG_US_kmeans_C5.js\n"
     ]
    }
   ],
   "source": [
    "param_US = {\n",
    "        'title': \"Vulnerable Neighborhood to COVID-19, US\",\n",
    "        'subject': \"COVID-19\",\n",
    "        'filename_suffix': \"US_kmeans_C5\", \n",
    "        'inputCSV': \"input_US/ACS_2018_5year__County_US_byCounty_normalized.csv\",   \n",
    "        'shapefile': \"input_US/counties_mainland_US.shp\", \t\t\n",
    "        'disasterInputCSV': \"input_US/COVID_us_counties.csv\", \n",
    "        'rate2': 'Case fatality rate = _deaths/_count',\t\t\t# Formula to compute rate2 in subjectCSV such as death rate2.       \n",
    "        'subjectNormalization': '(/10k pop) = all * 10000.0 / Population',  # denominator, per number of pop. \t\t\n",
    "        'normalizationCSV': \"input_US/Decision_Normalization_US.csv\",            # divisor instead of population from CSV file\t\n",
    "        'normalizationUnit': 10000,               # default: 10000      \n",
    "        'years': [2018],        \n",
    "        'method': \"kmeans\",  # Aspatial Clustering: affinity_propagation, gaussian_mixture, hdbscan, kmeans, spectral, ward\n",
    "                             # Spatial Clustering: azp, max_p, skater, spenc, ward_spatial   \n",
    "        'nClusters': 5,      # This option should be commented out for affinity_propagation and hdbscan\n",
    "        'label': \"short_name\",\n",
    "        'variables': [\t\n",
    "            \"Median monthly housing costs\",\n",
    "            \"% below poverty\",\t\t\t\t\n",
    "            \"% unemployed\",\t\t\t\n",
    "            \"% with 4year college degree\",\n",
    "            \"% manufacturing\",\n",
    "            \"% service industry\",\n",
    "            \"% structures more than 30 years old\",\n",
    "            \"% households moved <10 years ago\",\n",
    "            \"% multiunit structures\",\n",
    "            \"% owner occupied housing\",\n",
    "            \"% vacant housing\",\n",
    "            \"% > 60 years old\",\t\t\t\n",
    "            \"% < 18 years old\",\n",
    "            \"% white\",\n",
    "            \"% Asian\",\n",
    "            \"% Hispanic\",\t\t\t\n",
    "            \"% black\",\t\t\t\n",
    "            \"% foreign born\",\n",
    "                    ],\t\n",
    "        'Distribution_of_Subject': True,                   #density chart: INC changes as the map extent changes \n",
    "        'Zscore_Means_across_Clusters': True,\n",
    "        'Zscore_Means_of_Each_Cluster': True,\n",
    "        'Number_of_Barcharts_for_Subject_Clusters': 3,\n",
    "        'Number_of_BoxPlots_for_Subject_Clusters': 3,\n",
    "}\n",
    "Vulnerability_viz(param_US)\n",
    "Vulnerability_log(param_US)"
   ]
  },
  {
   "cell_type": "markdown",
   "id": "0f4de295-8a8f-4a26-a42d-83fb37b9dd47",
   "metadata": {},
   "source": [
    "## Extended Chicago Area: Exploration of Vulnerable Neighborhood COVID-19 and Regional Disparities in the Infection/Mortality/Test Rates"
   ]
  },
  {
   "cell_type": "code",
   "execution_count": 12,
   "id": "bc1b1c2c-9013-4a72-9f1c-4e193e151251",
   "metadata": {},
   "outputs": [
    {
     "name": "stderr",
     "output_type": "stream",
     "text": [
      "C:\\Users\\Suzie\\Anaconda3\\envs\\geosnap6\\lib\\site-packages\\sklearn\\cluster\\_kmeans.py:786: FutureWarning: 'precompute_distances' was deprecated in version 0.23 and will be removed in 1.0 (renaming of 0.25). It has no effect\n",
      "  warnings.warn(\"'precompute_distances' was deprecated in version \"\n",
      "C:\\Users\\Suzie\\Anaconda3\\envs\\geosnap6\\lib\\site-packages\\scipy\\cluster\\hierarchy.py:834: ClusterWarning: scipy.cluster: The symmetric non-negative hollow observation matrix looks suspiciously like an uncondensed distance matrix\n",
      "  return linkage(y, method='ward', metric='euclidean')\n"
     ]
    },
    {
     "name": "stdout",
     "output_type": "stream",
     "text": [
      "To see your visualization, click the URL below (or locate the files):\n",
      "F:\\Github\\Vulnerable_Neigborhood_Explorer/VNE_Chicago_extended_kmeans_C5\\index.html\n",
      "To access all visualizations that you have created, click the URL below (or locate the files):\n",
      "F:\\Github\\Vulnerable_Neigborhood_Explorer/log.html\n",
      "Advanced options are available in \n",
      "F:\\Github\\Vulnerable_Neigborhood_Explorer/VNE_Chicago_extended_kmeans_C5/data/CONFIG_Chicago_extended_kmeans_C5.js\n"
     ]
    }
   ],
   "source": [
    "param_extended_Chicago = {\n",
    "        'title': \"Vulnerable Neighborhood to COVID-19, Chicago\",\n",
    "        'subject': \"COVID-19\",\n",
    "        'filename_suffix': \"Chicago_extended_kmeans_C5\",\n",
    "        'inputCSV': \"input_extended_Chicago/ACS_2018_5year__zipcode_extended_Chicago_byZipcode_normalized.csv\",\n",
    "        'shapefile': \"input_extended_Chicago/Chicago_extended.shp\",\n",
    "        'disasterInputCSV': \"input_Chicago/COVID_IL_20200711.csv\",\n",
    "        'subjectNormalization': '(/10k pop) = all * 10000.0 / Population',  # denominator, per number of pop.         \n",
    "        'normalizationCSV': \"input_Chicago/Decision_Normalization_Chicago.csv\",            # divisor instead of population from CSV file    \n",
    "        'normalizationUnit': 10000,               # default: 10000          \n",
    "        'years': [2018],        \n",
    "        'method': \"kmeans\",  # Aspatial Clustering: affinity_propagation, gaussian_mixture, hdbscan, kmeans, spectral, ward\n",
    "                             # Spatial Clustering: azp, max_p, skater, spenc, ward_spatial   \n",
    "        'nClusters': 5,     # This option should be commented out for affinity_propagation and hdbscan\n",
    "        'label': \"short_name\",\n",
    "        'variables': [    \n",
    "            \"Median monthly housing costs\",\n",
    "            \"% below poverty\",                \n",
    "            \"% unemployed\",            \n",
    "            \"% with 4year college degree\",\n",
    "            \"% manufacturing\",\n",
    "            \"% service industry\",\n",
    "            \"% structures more than 30 years old\",\n",
    "            \"% households moved <10 years ago\",\n",
    "            \"% multiunit structures\",\n",
    "            \"% owner occupied housing\",\n",
    "            \"% vacant housing\",\n",
    "            \"% > 60 years old\",            \n",
    "            \"% < 18 years old\",\n",
    "            \"% white\",\n",
    "            \"% Asian\",\n",
    "            \"% Hispanic\",            \n",
    "            \"% black\",            \n",
    "            \"% foreign born\",\n",
    "                    ],    \n",
    "        'Distribution_of_Subject': True,                   #density chart: INC changes as the map extent changes \n",
    "        'Zscore_Means_across_Clusters': True,\n",
    "        'Zscore_Means_of_Each_Cluster': True,\n",
    "        'Number_of_Barcharts_for_Subject_Clusters': 3,\n",
    "        'Number_of_BoxPlots_for_Subject_Clusters': 3,\n",
    "}\n",
    "Vulnerability_viz(param_extended_Chicago)\n",
    "Vulnerability_log(param_extended_Chicago)"
   ]
  },
  {
   "cell_type": "markdown",
   "id": "c55b9d95-8f8a-4d3d-9375-6801865658fb",
   "metadata": {},
   "source": [
    "## Illinois State at zipcode level: Exploration of Vulnerable Neighborhood COVID-19 and Regional Disparities in the Infection/Mortality/Test Rates"
   ]
  },
  {
   "cell_type": "code",
   "execution_count": 13,
   "id": "d207963c-128b-4fa1-9569-12e344547811",
   "metadata": {},
   "outputs": [
    {
     "name": "stderr",
     "output_type": "stream",
     "text": [
      "C:\\Users\\Suzie\\Anaconda3\\envs\\geosnap6\\lib\\site-packages\\sklearn\\cluster\\_kmeans.py:786: FutureWarning: 'precompute_distances' was deprecated in version 0.23 and will be removed in 1.0 (renaming of 0.25). It has no effect\n",
      "  warnings.warn(\"'precompute_distances' was deprecated in version \"\n",
      "C:\\Users\\Suzie\\Anaconda3\\envs\\geosnap6\\lib\\site-packages\\scipy\\cluster\\hierarchy.py:834: ClusterWarning: scipy.cluster: The symmetric non-negative hollow observation matrix looks suspiciously like an uncondensed distance matrix\n",
      "  return linkage(y, method='ward', metric='euclidean')\n"
     ]
    },
    {
     "name": "stdout",
     "output_type": "stream",
     "text": [
      "To see your visualization, click the URL below (or locate the files):\n",
      "F:\\Github\\Vulnerable_Neigborhood_Explorer/VNE_Illinois_kmeans_C5\\index.html\n",
      "To access all visualizations that you have created, click the URL below (or locate the files):\n",
      "F:\\Github\\Vulnerable_Neigborhood_Explorer/log.html\n",
      "Advanced options are available in \n",
      "F:\\Github\\Vulnerable_Neigborhood_Explorer/VNE_Illinois_kmeans_C5/data/CONFIG_Illinois_kmeans_C5.js\n"
     ]
    }
   ],
   "source": [
    "param_Illinois = {\n",
    "        'title': \"Vulnerable Neighborhood to COVID-19, Illinois\",\n",
    "        'subject': \"COVID-19\",\n",
    "        'filename_suffix': \"Illinois_kmeans_C5\",\n",
    "        'inputCSV': \"input_Illinois/ACS_2018_5year__zipcode_IL_byZipcode_normalized.csv\",\n",
    "        'shapefile': \"input_Illinois/zipcode_IL.shp\",\n",
    "        'disasterInputCSV': \"input_Chicago/COVID_IL_20200711.csv\",\n",
    "        'rate1': 'Confirmed (%) = _count/_tested',\t\t# Formula to compute rate1 in subjectCSV such as confirmed rate1. \n",
    "        'subjectNormalization': '(/10k pop) = all * 10000.0 / Population',  # denominator, per number of pop. \t\t\n",
    "        'normalizationCSV': \"Decision_Normalization.csv\",            # divisor instead of population from CSV file\t\n",
    "        'normalizationUnit': 10000,               # default: 10000      \n",
    "        'years': [2018],        \n",
    "        'method': \"kmeans\",  # Aspatial Clustering: affinity_propagation, gaussian_mixture, hdbscan, kmeans, spectral, ward\n",
    "                             # Spatial Clustering: azp, max_p, skater, spenc, ward_spatial   \n",
    "        'nClusters': 5,     # This option should be commented out for affinity_propagation and hdbscan\n",
    "        'label': \"short_name\",\n",
    "        'variables': [\t\n",
    "            \"Median monthly housing costs\",\n",
    "            \"% below poverty\",\t\t\t\t\n",
    "            \"% unemployed\",\t\t\t\n",
    "            \"% with 4year college degree\",\n",
    "            \"% manufacturing\",\n",
    "            \"% service industry\",\n",
    "            \"% structures more than 30 years old\",\n",
    "            \"% households moved <10 years ago\",\n",
    "            \"% multiunit structures\",\n",
    "            \"% owner occupied housing\",\n",
    "            \"% vacant housing\",\n",
    "            \"% > 60 years old\",\t\t\t\n",
    "            \"% < 18 years old\",\n",
    "            \"% white\",\n",
    "            \"% Asian\",\n",
    "            \"% Hispanic\",\t\t\t\n",
    "            \"% black\",\t\t\t\n",
    "            \"% foreign born\",\n",
    "                    ],\t\n",
    "        'Distribution_of_Subject': True,                   #density chart: INC changes as the map extent changes \n",
    "        'Zscore_Means_across_Clusters': True,\n",
    "        'Zscore_Means_of_Each_Cluster': True,\n",
    "        'Number_of_Barcharts_for_Subject_Clusters':3,\n",
    "        'Number_of_BoxPlots_for_Subject_Clusters': 3,\t\n",
    "}\n",
    "Vulnerability_viz(param_Illinois)\n",
    "Vulnerability_log(param_Illinois)"
   ]
  },
  {
   "cell_type": "code",
   "execution_count": null,
   "id": "b4ccb3b2-0fc8-44f9-9cbf-be16427c265e",
   "metadata": {},
   "outputs": [],
   "source": []
  }
 ],
 "metadata": {
  "kernelspec": {
   "display_name": "Python 3 (ipykernel)",
   "language": "python",
   "name": "python3"
  },
  "language_info": {
   "codemirror_mode": {
    "name": "ipython",
    "version": 3
   },
   "file_extension": ".py",
   "mimetype": "text/x-python",
   "name": "python",
   "nbconvert_exporter": "python",
   "pygments_lexer": "ipython3",
   "version": "3.8.1"
  }
 },
 "nbformat": 4,
 "nbformat_minor": 5
}
